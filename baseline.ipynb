{
 "cells": [
  {
   "cell_type": "code",
   "execution_count": 5,
   "metadata": {},
   "outputs": [],
   "source": [
    "import pandas as pd\n",
    "import numpy as np\n",
    "import tensorflow as tf"
   ]
  },
  {
   "cell_type": "code",
   "execution_count": 17,
   "metadata": {},
   "outputs": [],
   "source": [
    "#conda uninstall -c anaconda py-xgboost\n",
    "#conda install -c bioconda xgboost=0.6a2\n",
    "#conda install -c conda-forge xgboost "
   ]
  },
  {
   "cell_type": "code",
   "execution_count": 18,
   "metadata": {},
   "outputs": [],
   "source": [
    "#pip install fastparquet\n",
    "#conda install -c conda-forge python-snappy"
   ]
  },
  {
   "cell_type": "code",
   "execution_count": 6,
   "metadata": {},
   "outputs": [],
   "source": [
    "train = pd.read_parquet('data_fusion_train.parquet')"
   ]
  },
  {
   "cell_type": "markdown",
   "metadata": {},
   "source": [
    "## Убираем ненужные теги"
   ]
  },
  {
   "cell_type": "code",
   "execution_count": 7,
   "metadata": {},
   "outputs": [],
   "source": [
    "train = train[train.category_id != -1]\n",
    "#train = train[train.category_id != 0]\n",
    "train = train.drop_duplicates('item_name')"
   ]
  },
  {
   "cell_type": "code",
   "execution_count": 8,
   "metadata": {},
   "outputs": [],
   "source": [
    "#df = train[:10000]\n",
    "train = train.drop(['receipt_id','receipt_dayofweek','receipt_time','item_quantity'], axis=1)"
   ]
  },
  {
   "cell_type": "markdown",
   "metadata": {},
   "source": [
    "## Убираем цифры и дубликаты пробелом, делаем везде lowercase"
   ]
  },
  {
   "cell_type": "code",
   "execution_count": 9,
   "metadata": {},
   "outputs": [],
   "source": [
    "import re\n",
    "train['item_name'] = train['item_name'].str.replace('\\d+', '')\n",
    "train['item_name'] = train['item_name'].str.lower()\n",
    "train['item_name'] = train['item_name'].apply(lambda x: re.sub(r'[^\\w]', ' ', str(x)))\n",
    "train['item_name'] = train['item_name'].apply(lambda x: re.sub(' +', ' ', str(x)))"
   ]
  },
  {
   "cell_type": "code",
   "execution_count": 10,
   "metadata": {},
   "outputs": [
    {
     "name": "stderr",
     "output_type": "stream",
     "text": [
      "[nltk_data] Downloading package punkt to /Users/ilya/nltk_data...\n",
      "[nltk_data]   Package punkt is already up-to-date!\n"
     ]
    }
   ],
   "source": [
    "import nltk\n",
    "nltk.download('punkt')\n",
    "from nltk import word_tokenize\n",
    "train['item_name_token'] = train['item_name'].apply(lambda x: word_tokenize(str(x)))"
   ]
  },
  {
   "cell_type": "markdown",
   "metadata": {},
   "source": [
    "## Выделяем корни во всех словах, чтобы \"молоко\" и \"молок\" не воспринимались разными словами"
   ]
  },
  {
   "cell_type": "code",
   "execution_count": 11,
   "metadata": {},
   "outputs": [],
   "source": [
    "from nltk.stem import SnowballStemmer\n",
    "\n",
    "snowball = SnowballStemmer(language='russian')\n",
    "train['item_name_token'] = train['item_name_token'].apply(lambda x: [snowball.stem(y) for y in x])"
   ]
  },
  {
   "cell_type": "markdown",
   "metadata": {},
   "source": [
    "## Английские наименования также убираем, чтобы они не путали классификатор"
   ]
  },
  {
   "cell_type": "code",
   "execution_count": 174,
   "metadata": {},
   "outputs": [],
   "source": [
    "#pip install alphabet-detector"
   ]
  },
  {
   "cell_type": "code",
   "execution_count": 12,
   "metadata": {},
   "outputs": [],
   "source": [
    "from alphabet_detector import AlphabetDetector\n",
    "ad = AlphabetDetector()\n",
    "\n",
    "def transf(input):\n",
    "    output =[]\n",
    "    for i in range(len(input)):\n",
    "        if ad.only_alphabet_chars(input[i],'CYRILLIC') == True:\n",
    "            output.append(input[i])\n",
    "    return output\n",
    "\n",
    "\n",
    "train['item_name_token'] = train['item_name_token'].apply(lambda x: transf(x))"
   ]
  },
  {
   "cell_type": "code",
   "execution_count": 13,
   "metadata": {},
   "outputs": [
    {
     "data": {
      "text/plain": [
       "1                                             [молок, шт]\n",
       "3                                [компот, из, изюм, ккал]\n",
       "4           [макарон, издел, отварн, масл, сливочн, ккал]\n",
       "17                              [коф, капучин, больш, эд]\n",
       "40                                [хлеб, на, сыворотк, г]\n",
       "                                ...                      \n",
       "45669181                   [напиток, энерг, ред, булл, л]\n",
       "45681543                               [хеменгуэ, дайкир]\n",
       "45690702            [пив, светл, халза, об, пл, б, л, шт]\n",
       "45692298                              [экспресс, педикюр]\n",
       "45700308           [конфет, харитош, кг, мол, ваф, яшкин]\n",
       "Name: item_name_token, Length: 48225, dtype: object"
      ]
     },
     "execution_count": 13,
     "metadata": {},
     "output_type": "execute_result"
    }
   ],
   "source": [
    "train['item_name_token']"
   ]
  },
  {
   "cell_type": "code",
   "execution_count": 14,
   "metadata": {},
   "outputs": [],
   "source": [
    "train['item_name_token'] = train['item_name_token'].apply(lambda x: ' '.join(x))"
   ]
  },
  {
   "cell_type": "code",
   "execution_count": 15,
   "metadata": {},
   "outputs": [
    {
     "data": {
      "text/html": [
       "<div>\n",
       "<style scoped>\n",
       "    .dataframe tbody tr th:only-of-type {\n",
       "        vertical-align: middle;\n",
       "    }\n",
       "\n",
       "    .dataframe tbody tr th {\n",
       "        vertical-align: top;\n",
       "    }\n",
       "\n",
       "    .dataframe thead th {\n",
       "        text-align: right;\n",
       "    }\n",
       "</style>\n",
       "<table border=\"1\" class=\"dataframe\">\n",
       "  <thead>\n",
       "    <tr style=\"text-align: right;\">\n",
       "      <th></th>\n",
       "      <th>item_name</th>\n",
       "      <th>item_price</th>\n",
       "      <th>item_nds_rate</th>\n",
       "      <th>category_id</th>\n",
       "      <th>brands</th>\n",
       "      <th>item_name_token</th>\n",
       "    </tr>\n",
       "  </thead>\n",
       "  <tbody>\n",
       "    <tr>\n",
       "      <th>1</th>\n",
       "      <td>молоко шт</td>\n",
       "      <td>8</td>\n",
       "      <td>2</td>\n",
       "      <td>78</td>\n",
       "      <td>None</td>\n",
       "      <td>молок шт</td>\n",
       "    </tr>\n",
       "    <tr>\n",
       "      <th>3</th>\n",
       "      <td>компот из изюма ккал</td>\n",
       "      <td>4</td>\n",
       "      <td>1</td>\n",
       "      <td>71</td>\n",
       "      <td>None</td>\n",
       "      <td>компот из изюм ккал</td>\n",
       "    </tr>\n",
       "    <tr>\n",
       "      <th>4</th>\n",
       "      <td>макаронные изделия отварные масло сливочное ккал</td>\n",
       "      <td>4</td>\n",
       "      <td>1</td>\n",
       "      <td>71</td>\n",
       "      <td>None</td>\n",
       "      <td>макарон издел отварн масл сливочн ккал</td>\n",
       "    </tr>\n",
       "    <tr>\n",
       "      <th>17</th>\n",
       "      <td>кофе капучино большой эден</td>\n",
       "      <td>12</td>\n",
       "      <td>1</td>\n",
       "      <td>70</td>\n",
       "      <td>None</td>\n",
       "      <td>коф капучин больш эд</td>\n",
       "    </tr>\n",
       "    <tr>\n",
       "      <th>40</th>\n",
       "      <td>хлеб на сыворотке г</td>\n",
       "      <td>7</td>\n",
       "      <td>-1</td>\n",
       "      <td>84</td>\n",
       "      <td>None</td>\n",
       "      <td>хлеб на сыворотк г</td>\n",
       "    </tr>\n",
       "    <tr>\n",
       "      <th>...</th>\n",
       "      <td>...</td>\n",
       "      <td>...</td>\n",
       "      <td>...</td>\n",
       "      <td>...</td>\n",
       "      <td>...</td>\n",
       "      <td>...</td>\n",
       "    </tr>\n",
       "    <tr>\n",
       "      <th>45669181</th>\n",
       "      <td>напиток энерг ред булл л</td>\n",
       "      <td>10</td>\n",
       "      <td>6</td>\n",
       "      <td>83</td>\n",
       "      <td>None</td>\n",
       "      <td>напиток энерг ред булл л</td>\n",
       "    </tr>\n",
       "    <tr>\n",
       "      <th>45681543</th>\n",
       "      <td>хеменгуэй дайкири</td>\n",
       "      <td>15</td>\n",
       "      <td>6</td>\n",
       "      <td>0</td>\n",
       "      <td>None</td>\n",
       "      <td>хеменгуэ дайкир</td>\n",
       "    </tr>\n",
       "    <tr>\n",
       "      <th>45690702</th>\n",
       "      <td>пиво светлое халзан об пл б л шт</td>\n",
       "      <td>10</td>\n",
       "      <td>6</td>\n",
       "      <td>0</td>\n",
       "      <td>None</td>\n",
       "      <td>пив светл халза об пл б л шт</td>\n",
       "    </tr>\n",
       "    <tr>\n",
       "      <th>45692298</th>\n",
       "      <td>экспресс педикюр</td>\n",
       "      <td>15</td>\n",
       "      <td>6</td>\n",
       "      <td>42</td>\n",
       "      <td>None</td>\n",
       "      <td>экспресс педикюр</td>\n",
       "    </tr>\n",
       "    <tr>\n",
       "      <th>45700308</th>\n",
       "      <td>конфеты харитоша кг мол ваф яшкино</td>\n",
       "      <td>11</td>\n",
       "      <td>6</td>\n",
       "      <td>84</td>\n",
       "      <td>None</td>\n",
       "      <td>конфет харитош кг мол ваф яшкин</td>\n",
       "    </tr>\n",
       "  </tbody>\n",
       "</table>\n",
       "<p>48225 rows × 6 columns</p>\n",
       "</div>"
      ],
      "text/plain": [
       "                                                 item_name  item_price  \\\n",
       "1                                                молоко шт           8   \n",
       "3                                     компот из изюма ккал           4   \n",
       "4         макаронные изделия отварные масло сливочное ккал           4   \n",
       "17                             кофе капучино большой эден           12   \n",
       "40                                     хлеб на сыворотке г           7   \n",
       "...                                                    ...         ...   \n",
       "45669181                          напиток энерг ред булл л          10   \n",
       "45681543                                 хеменгуэй дайкири          15   \n",
       "45690702                 пиво светлое халзан об пл б л шт           10   \n",
       "45692298                                  экспресс педикюр          15   \n",
       "45700308                конфеты харитоша кг мол ваф яшкино          11   \n",
       "\n",
       "          item_nds_rate  category_id brands  \\\n",
       "1                     2           78   None   \n",
       "3                     1           71   None   \n",
       "4                     1           71   None   \n",
       "17                    1           70   None   \n",
       "40                   -1           84   None   \n",
       "...                 ...          ...    ...   \n",
       "45669181              6           83   None   \n",
       "45681543              6            0   None   \n",
       "45690702              6            0   None   \n",
       "45692298              6           42   None   \n",
       "45700308              6           84   None   \n",
       "\n",
       "                                 item_name_token  \n",
       "1                                       молок шт  \n",
       "3                            компот из изюм ккал  \n",
       "4         макарон издел отварн масл сливочн ккал  \n",
       "17                          коф капучин больш эд  \n",
       "40                            хлеб на сыворотк г  \n",
       "...                                          ...  \n",
       "45669181                напиток энерг ред булл л  \n",
       "45681543                         хеменгуэ дайкир  \n",
       "45690702            пив светл халза об пл б л шт  \n",
       "45692298                        экспресс педикюр  \n",
       "45700308         конфет харитош кг мол ваф яшкин  \n",
       "\n",
       "[48225 rows x 6 columns]"
      ]
     },
     "execution_count": 15,
     "metadata": {},
     "output_type": "execute_result"
    }
   ],
   "source": [
    "train"
   ]
  },
  {
   "cell_type": "markdown",
   "metadata": {},
   "source": [
    "## В список stopwords добавляем граммы, килограммы, калории и т.д."
   ]
  },
  {
   "cell_type": "code",
   "execution_count": 57,
   "metadata": {},
   "outputs": [
    {
     "name": "stderr",
     "output_type": "stream",
     "text": [
      "[nltk_data] Downloading package words to /Users/ilya/nltk_data...\n",
      "[nltk_data]   Package words is already up-to-date!\n",
      "[nltk_data] Downloading package stopwords to /Users/ilya/nltk_data...\n",
      "[nltk_data]   Package stopwords is already up-to-date!\n"
     ]
    }
   ],
   "source": [
    "from nltk.corpus import stopwords \n",
    "\n",
    "nltk.download('words')\n",
    "#wordsEng = set(nltk.corpus.words.words())\n",
    "\n",
    "nltk.download('stopwords')\n",
    "stop = stopwords.words('russian')\n",
    "stop = stop.extend(['ккал','к','кал','в','асс','шт','ип','ооо','ш','д','а','б','в','е',\n",
    "            'ё','ж','з','и','й','к','м','н','о','п','р','с','т','у','ф','х','ц','ч','ш','щ','ю','я','a','b','c','d','e','f',\n",
    "           'd','e','f','g','h','i','j','k','l','m','n','o','p','q','r','s','t','u','v','y',\n",
    "            'z','xl','xxl','new','без','ок','бкк','классическ','на','упак','бел','черн','кдв','зпп','мф','из'\n",
    "            'порц','особ','по','нов','рецептур','премиум','мк','оа','ая','эдишн','ип'])"
   ]
  },
  {
   "cell_type": "code",
   "execution_count": 64,
   "metadata": {},
   "outputs": [],
   "source": [
    "from sklearn.feature_extraction.text import TfidfVectorizer\n",
    "\n",
    "tfidf = TfidfVectorizer(max_df=0.8)\n",
    "\n",
    "X_train_sparse = tfidf.fit_transform(train['item_name_token'])\n",
    "X_train_nsparse = train.drop('item_name', axis=1)"
   ]
  },
  {
   "cell_type": "code",
   "execution_count": 65,
   "metadata": {},
   "outputs": [],
   "source": [
    "from sklearn.model_selection import train_test_split\n",
    "X_train, X_test, y_train, y_test = train_test_split(X_train_sparse, train.category_id.values, test_size=0.33, random_state=1)"
   ]
  },
  {
   "cell_type": "code",
   "execution_count": 73,
   "metadata": {},
   "outputs": [
    {
     "name": "stdout",
     "output_type": "stream",
     "text": [
      "[LibLinear][LibLinear][LibLinear][LibLinear][0.7633975  0.76703954 0.76726942]\n"
     ]
    }
   ],
   "source": [
    "from sklearn.svm import LinearSVC\n",
    "from sklearn.model_selection import cross_val_score\n",
    "\n",
    "clf = LinearSVC(verbose=50)\n",
    "clf.fit(X_train, y_train)\n",
    "\n",
    "print(cross_val_score(clf, X_train_sparse, train.category_id.values, cv=3))"
   ]
  },
  {
   "cell_type": "markdown",
   "metadata": {},
   "source": [
    "## Итоговый cv-score получается ~76%"
   ]
  }
 ],
 "metadata": {
  "kernelspec": {
   "display_name": "Python 3",
   "language": "python",
   "name": "python3"
  },
  "language_info": {
   "codemirror_mode": {
    "name": "ipython",
    "version": 3
   },
   "file_extension": ".py",
   "mimetype": "text/x-python",
   "name": "python",
   "nbconvert_exporter": "python",
   "pygments_lexer": "ipython3",
   "version": "3.8.5"
  }
 },
 "nbformat": 4,
 "nbformat_minor": 2
}
