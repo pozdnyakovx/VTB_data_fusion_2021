{
 "cells": [
  {
   "cell_type": "markdown",
   "metadata": {},
   "source": [
    "# Бейзлайн для задачи goodsification (VTB Data Fusion 2021)"
   ]
  },
  {
   "cell_type": "code",
   "execution_count": 81,
   "metadata": {},
   "outputs": [],
   "source": [
    "import pandas as pd\n",
    "import numpy as np\n",
    "import tensorflow as tf"
   ]
  },
  {
   "cell_type": "code",
   "execution_count": 82,
   "metadata": {},
   "outputs": [],
   "source": [
    "#conda uninstall -c anaconda py-xgboost\n",
    "#conda install -c bioconda xgboost=0.6a2\n",
    "#conda install -c conda-forge xgboost "
   ]
  },
  {
   "cell_type": "code",
   "execution_count": 83,
   "metadata": {},
   "outputs": [],
   "source": [
    "#pip install fastparquet\n",
    "#conda install -c conda-forge python-snappy"
   ]
  },
  {
   "cell_type": "code",
   "execution_count": 84,
   "metadata": {},
   "outputs": [],
   "source": [
    "train = pd.read_parquet('data_fusion_train.parquet')"
   ]
  },
  {
   "cell_type": "markdown",
   "metadata": {},
   "source": [
    "## Убираем ненужные теги"
   ]
  },
  {
   "cell_type": "code",
   "execution_count": 85,
   "metadata": {},
   "outputs": [],
   "source": [
    "train = train[train.category_id != -1] #неразмеченные товары\n",
    "train = train.drop_duplicates('item_name')"
   ]
  },
  {
   "cell_type": "code",
   "execution_count": 86,
   "metadata": {},
   "outputs": [],
   "source": [
    "train = train.drop(['receipt_id','receipt_dayofweek','receipt_time','item_quantity'], axis=1) #в данной тетради будем использовать только текстовое поле 'item_name'"
   ]
  },
  {
   "cell_type": "markdown",
   "metadata": {},
   "source": [
    "## Усиливаем item_name с помощью первого слова, чтобы повысить общий вес наиболее \"достоверного\" слова в строке"
   ]
  },
  {
   "cell_type": "code",
   "execution_count": 87,
   "metadata": {},
   "outputs": [],
   "source": [
    "train['first_word'] = train['item_name'].apply(lambda x: x.split()[0] if len(x.split()) > 0 else 'none')"
   ]
  },
  {
   "cell_type": "code",
   "execution_count": 88,
   "metadata": {},
   "outputs": [],
   "source": [
    "train['item_name'] = train['item_name'] + ' ' + train['first_word']"
   ]
  },
  {
   "cell_type": "code",
   "execution_count": 89,
   "metadata": {},
   "outputs": [
    {
     "data": {
      "text/plain": [
       "1                                       Молоко 3,2%,шт Молоко\n",
       "3                            Компот из изюма, 114 ккал Компот\n",
       "4           Макаронные изделия отварные (масло сливочное),...\n",
       "17                         Кофе Капучино Большой Эден 18 Кофе\n",
       "40                                Хлеб на СЫВОРОТКЕ 350г Хлеб\n",
       "                                  ...                        \n",
       "45669181               Напиток Энерг. Ред Булл 0,355л Напиток\n",
       "45681543                          Хеменгуэй Дайкири Хеменгуэй\n",
       "45690702    Пиво светлое \"Халзан\" 4,5 % об, пл/б. 1,5 л(шт...\n",
       "45692298                            Экспресс педикюр Экспресс\n",
       "45700308         Конфеты Харитоша 1кг мол. ваф Яшкино Конфеты\n",
       "Name: item_name, Length: 48225, dtype: object"
      ]
     },
     "execution_count": 89,
     "metadata": {},
     "output_type": "execute_result"
    }
   ],
   "source": [
    "train['item_name']"
   ]
  },
  {
   "cell_type": "markdown",
   "metadata": {},
   "source": [
    "## Убираем цифры и дубликаты пробелов"
   ]
  },
  {
   "cell_type": "code",
   "execution_count": 90,
   "metadata": {},
   "outputs": [],
   "source": [
    "import re\n",
    "train['item_name'] = train['item_name'].str.replace('\\d+', '') #цифры\n",
    "train['item_name'] = train['item_name'].str.lower() \n",
    "train['item_name'] = train['item_name'].apply(lambda x: re.sub(r'[^\\w]', ' ', str(x))) #символы\n",
    "train['item_name'] = train['item_name'].apply(lambda x: re.sub(' +', ' ', str(x))) #дубликаты пробелов"
   ]
  },
  {
   "cell_type": "code",
   "execution_count": 91,
   "metadata": {},
   "outputs": [
    {
     "name": "stderr",
     "output_type": "stream",
     "text": [
      "[nltk_data] Downloading package punkt to /Users/ilya/nltk_data...\n",
      "[nltk_data]   Package punkt is already up-to-date!\n"
     ]
    }
   ],
   "source": [
    "#токенизация для дальнейшей обработки\n",
    "\n",
    "import nltk\n",
    "nltk.download('punkt')\n",
    "from nltk import word_tokenize\n",
    "train['item_name_token'] = train['item_name'].apply(lambda x: word_tokenize(str(x)))"
   ]
  },
  {
   "cell_type": "markdown",
   "metadata": {},
   "source": [
    "## Выделяем корни во всех словах, чтобы \"молоко\" и \"молок\" не воспринимались разными словами (стемминг)"
   ]
  },
  {
   "cell_type": "code",
   "execution_count": 92,
   "metadata": {},
   "outputs": [],
   "source": [
    "from nltk.stem import SnowballStemmer\n",
    "\n",
    "snowball = SnowballStemmer(language='russian')\n",
    "train['item_name_token'] = train['item_name_token'].apply(lambda x: [snowball.stem(y) for y in x])"
   ]
  },
  {
   "cell_type": "markdown",
   "metadata": {},
   "source": [
    "## Английские наименования также убираем, чтобы они не путали классификатор"
   ]
  },
  {
   "cell_type": "code",
   "execution_count": 93,
   "metadata": {},
   "outputs": [],
   "source": [
    "#pip install alphabet-detector"
   ]
  },
  {
   "cell_type": "code",
   "execution_count": 94,
   "metadata": {},
   "outputs": [],
   "source": [
    "from alphabet_detector import AlphabetDetector\n",
    "ad = AlphabetDetector()\n",
    "\n",
    "def transf(input):\n",
    "    output =[]\n",
    "    for i in range(len(input)):\n",
    "        if ad.only_alphabet_chars(input[i],'CYRILLIC') == True:\n",
    "            output.append(input[i])\n",
    "    return output\n",
    "\n",
    "\n",
    "train['item_name_token'] = train['item_name_token'].apply(lambda x: transf(x))"
   ]
  },
  {
   "cell_type": "code",
   "execution_count": 95,
   "metadata": {},
   "outputs": [
    {
     "data": {
      "text/plain": [
       "1                                          [молок, шт, молок]\n",
       "3                            [компот, из, изюм, ккал, компот]\n",
       "4           [макарон, издел, отварн, масл, сливочн, ккал, ...\n",
       "17                             [коф, капучин, больш, эд, коф]\n",
       "40                              [хлеб, на, сыворотк, г, хлеб]\n",
       "                                  ...                        \n",
       "45669181              [напиток, энерг, ред, булл, л, напиток]\n",
       "45681543                         [хеменгуэ, дайкир, хеменгуэ]\n",
       "45690702           [пив, светл, халза, об, пл, б, л, шт, пив]\n",
       "45692298                        [экспресс, педикюр, экспресс]\n",
       "45700308       [конфет, харитош, кг, мол, ваф, яшкин, конфет]\n",
       "Name: item_name_token, Length: 48225, dtype: object"
      ]
     },
     "execution_count": 95,
     "metadata": {},
     "output_type": "execute_result"
    }
   ],
   "source": [
    "train['item_name_token']"
   ]
  },
  {
   "cell_type": "code",
   "execution_count": 96,
   "metadata": {},
   "outputs": [],
   "source": [
    "train['item_name_token'] = train['item_name_token'].apply(lambda x: ' '.join(x)) #сливаем все обратно в одну строку для векторизации"
   ]
  },
  {
   "cell_type": "code",
   "execution_count": 97,
   "metadata": {},
   "outputs": [
    {
     "data": {
      "text/html": [
       "<div>\n",
       "<style scoped>\n",
       "    .dataframe tbody tr th:only-of-type {\n",
       "        vertical-align: middle;\n",
       "    }\n",
       "\n",
       "    .dataframe tbody tr th {\n",
       "        vertical-align: top;\n",
       "    }\n",
       "\n",
       "    .dataframe thead th {\n",
       "        text-align: right;\n",
       "    }\n",
       "</style>\n",
       "<table border=\"1\" class=\"dataframe\">\n",
       "  <thead>\n",
       "    <tr style=\"text-align: right;\">\n",
       "      <th></th>\n",
       "      <th>item_name</th>\n",
       "      <th>item_price</th>\n",
       "      <th>item_nds_rate</th>\n",
       "      <th>category_id</th>\n",
       "      <th>brands</th>\n",
       "      <th>first_word</th>\n",
       "      <th>item_name_token</th>\n",
       "    </tr>\n",
       "  </thead>\n",
       "  <tbody>\n",
       "    <tr>\n",
       "      <th>1</th>\n",
       "      <td>молоко шт молоко</td>\n",
       "      <td>8</td>\n",
       "      <td>2</td>\n",
       "      <td>78</td>\n",
       "      <td>None</td>\n",
       "      <td>Молоко</td>\n",
       "      <td>молок шт молок</td>\n",
       "    </tr>\n",
       "    <tr>\n",
       "      <th>3</th>\n",
       "      <td>компот из изюма ккал компот</td>\n",
       "      <td>4</td>\n",
       "      <td>1</td>\n",
       "      <td>71</td>\n",
       "      <td>None</td>\n",
       "      <td>Компот</td>\n",
       "      <td>компот из изюм ккал компот</td>\n",
       "    </tr>\n",
       "    <tr>\n",
       "      <th>4</th>\n",
       "      <td>макаронные изделия отварные масло сливочное кк...</td>\n",
       "      <td>4</td>\n",
       "      <td>1</td>\n",
       "      <td>71</td>\n",
       "      <td>None</td>\n",
       "      <td>Макаронные</td>\n",
       "      <td>макарон издел отварн масл сливочн ккал макарон</td>\n",
       "    </tr>\n",
       "    <tr>\n",
       "      <th>17</th>\n",
       "      <td>кофе капучино большой эден кофе</td>\n",
       "      <td>12</td>\n",
       "      <td>1</td>\n",
       "      <td>70</td>\n",
       "      <td>None</td>\n",
       "      <td>Кофе</td>\n",
       "      <td>коф капучин больш эд коф</td>\n",
       "    </tr>\n",
       "    <tr>\n",
       "      <th>40</th>\n",
       "      <td>хлеб на сыворотке г хлеб</td>\n",
       "      <td>7</td>\n",
       "      <td>-1</td>\n",
       "      <td>84</td>\n",
       "      <td>None</td>\n",
       "      <td>Хлеб</td>\n",
       "      <td>хлеб на сыворотк г хлеб</td>\n",
       "    </tr>\n",
       "    <tr>\n",
       "      <th>...</th>\n",
       "      <td>...</td>\n",
       "      <td>...</td>\n",
       "      <td>...</td>\n",
       "      <td>...</td>\n",
       "      <td>...</td>\n",
       "      <td>...</td>\n",
       "      <td>...</td>\n",
       "    </tr>\n",
       "    <tr>\n",
       "      <th>45669181</th>\n",
       "      <td>напиток энерг ред булл л напиток</td>\n",
       "      <td>10</td>\n",
       "      <td>6</td>\n",
       "      <td>83</td>\n",
       "      <td>None</td>\n",
       "      <td>Напиток</td>\n",
       "      <td>напиток энерг ред булл л напиток</td>\n",
       "    </tr>\n",
       "    <tr>\n",
       "      <th>45681543</th>\n",
       "      <td>хеменгуэй дайкири хеменгуэй</td>\n",
       "      <td>15</td>\n",
       "      <td>6</td>\n",
       "      <td>0</td>\n",
       "      <td>None</td>\n",
       "      <td>Хеменгуэй</td>\n",
       "      <td>хеменгуэ дайкир хеменгуэ</td>\n",
       "    </tr>\n",
       "    <tr>\n",
       "      <th>45690702</th>\n",
       "      <td>пиво светлое халзан об пл б л шт пиво</td>\n",
       "      <td>10</td>\n",
       "      <td>6</td>\n",
       "      <td>0</td>\n",
       "      <td>None</td>\n",
       "      <td>Пиво</td>\n",
       "      <td>пив светл халза об пл б л шт пив</td>\n",
       "    </tr>\n",
       "    <tr>\n",
       "      <th>45692298</th>\n",
       "      <td>экспресс педикюр экспресс</td>\n",
       "      <td>15</td>\n",
       "      <td>6</td>\n",
       "      <td>42</td>\n",
       "      <td>None</td>\n",
       "      <td>Экспресс</td>\n",
       "      <td>экспресс педикюр экспресс</td>\n",
       "    </tr>\n",
       "    <tr>\n",
       "      <th>45700308</th>\n",
       "      <td>конфеты харитоша кг мол ваф яшкино конфеты</td>\n",
       "      <td>11</td>\n",
       "      <td>6</td>\n",
       "      <td>84</td>\n",
       "      <td>None</td>\n",
       "      <td>Конфеты</td>\n",
       "      <td>конфет харитош кг мол ваф яшкин конфет</td>\n",
       "    </tr>\n",
       "  </tbody>\n",
       "</table>\n",
       "<p>48225 rows × 7 columns</p>\n",
       "</div>"
      ],
      "text/plain": [
       "                                                  item_name  item_price  \\\n",
       "1                                          молоко шт молоко           8   \n",
       "3                               компот из изюма ккал компот           4   \n",
       "4         макаронные изделия отварные масло сливочное кк...           4   \n",
       "17                          кофе капучино большой эден кофе          12   \n",
       "40                                 хлеб на сыворотке г хлеб           7   \n",
       "...                                                     ...         ...   \n",
       "45669181                   напиток энерг ред булл л напиток          10   \n",
       "45681543                        хеменгуэй дайкири хеменгуэй          15   \n",
       "45690702              пиво светлое халзан об пл б л шт пиво          10   \n",
       "45692298                          экспресс педикюр экспресс          15   \n",
       "45700308         конфеты харитоша кг мол ваф яшкино конфеты          11   \n",
       "\n",
       "          item_nds_rate  category_id brands  first_word  \\\n",
       "1                     2           78   None      Молоко   \n",
       "3                     1           71   None      Компот   \n",
       "4                     1           71   None  Макаронные   \n",
       "17                    1           70   None        Кофе   \n",
       "40                   -1           84   None        Хлеб   \n",
       "...                 ...          ...    ...         ...   \n",
       "45669181              6           83   None     Напиток   \n",
       "45681543              6            0   None   Хеменгуэй   \n",
       "45690702              6            0   None        Пиво   \n",
       "45692298              6           42   None    Экспресс   \n",
       "45700308              6           84   None     Конфеты   \n",
       "\n",
       "                                         item_name_token  \n",
       "1                                         молок шт молок  \n",
       "3                             компот из изюм ккал компот  \n",
       "4         макарон издел отварн масл сливочн ккал макарон  \n",
       "17                              коф капучин больш эд коф  \n",
       "40                               хлеб на сыворотк г хлеб  \n",
       "...                                                  ...  \n",
       "45669181                напиток энерг ред булл л напиток  \n",
       "45681543                        хеменгуэ дайкир хеменгуэ  \n",
       "45690702                пив светл халза об пл б л шт пив  \n",
       "45692298                       экспресс педикюр экспресс  \n",
       "45700308          конфет харитош кг мол ваф яшкин конфет  \n",
       "\n",
       "[48225 rows x 7 columns]"
      ]
     },
     "execution_count": 97,
     "metadata": {},
     "output_type": "execute_result"
    }
   ],
   "source": [
    "train"
   ]
  },
  {
   "cell_type": "markdown",
   "metadata": {},
   "source": [
    "## В список stopwords добавляем \"шумные\" токены"
   ]
  },
  {
   "cell_type": "code",
   "execution_count": 98,
   "metadata": {},
   "outputs": [
    {
     "name": "stderr",
     "output_type": "stream",
     "text": [
      "[nltk_data] Downloading package words to /Users/ilya/nltk_data...\n",
      "[nltk_data]   Package words is already up-to-date!\n",
      "[nltk_data] Downloading package stopwords to /Users/ilya/nltk_data...\n",
      "[nltk_data]   Package stopwords is already up-to-date!\n"
     ]
    }
   ],
   "source": [
    "from nltk.corpus import stopwords \n",
    "\n",
    "nltk.download('words')\n",
    "#wordsEng = set(nltk.corpus.words.words())\n",
    "\n",
    "nltk.download('stopwords')\n",
    "stop = stopwords.words('russian')\n",
    "stop = stop.extend(['к','в','ип','ооо','ш','д','а','б','в','е',\n",
    "            'ё','ж','з','и','й','к','м','н','о','п','р','с','т','у','ф','х','ц','ч','ш','щ','ю','я','a','b','c','d','e','f',\n",
    "           'd','e','f','g','h','i','j','k','l','m','n','o','p','q','r','s','t','u','v','y',\n",
    "            'z','new','без','ок','бкк','классическ','на','упак','бел','черн','кдв','зпп','мф','из','особ','по','нов','рецептур','премиум','мк','оа','ая','эдишн','ип'\n",
    "            ])"
   ]
  },
  {
   "cell_type": "code",
   "execution_count": 104,
   "metadata": {},
   "outputs": [],
   "source": [
    "from sklearn.feature_extraction.text import TfidfVectorizer\n",
    "\n",
    "tfidf = TfidfVectorizer(max_df=0.75) # здесь ограничиваем веса тех токенов, которые встречаются в словаре слишком часто\n",
    "\n",
    "X_sparse = tfidf.fit_transform(train['item_name_token'])\n",
    "X_nsparse = train.drop('item_name', axis=1)"
   ]
  },
  {
   "cell_type": "code",
   "execution_count": 105,
   "metadata": {},
   "outputs": [],
   "source": [
    "from sklearn.model_selection import train_test_split\n",
    "X_train, X_test, y_train, y_test = train_test_split(X_sparse, train.category_id.values, test_size=0.33, random_state=1)"
   ]
  },
  {
   "cell_type": "code",
   "execution_count": 106,
   "metadata": {},
   "outputs": [
    {
     "name": "stdout",
     "output_type": "stream",
     "text": [
      "[0.8237014  0.8007465  0.76609642]\n"
     ]
    }
   ],
   "source": [
    "from sklearn.svm import LinearSVC\n",
    "from sklearn.model_selection import cross_val_score\n",
    "\n",
    "clf = LinearSVC(max_iter=2000, C=2.1)\n",
    "clf.fit(X_train, y_train)\n",
    "\n",
    "print(cross_val_score(clf, X_sparse, train.category_id.values, cv=3))"
   ]
  },
  {
   "cell_type": "markdown",
   "metadata": {},
   "source": [
    "## Итоговый скор бейзлайна с использованием только item_name получается ~80%"
   ]
  }
 ],
 "metadata": {
  "kernelspec": {
   "display_name": "Python 3",
   "language": "python",
   "name": "python3"
  },
  "language_info": {
   "codemirror_mode": {
    "name": "ipython",
    "version": 3
   },
   "file_extension": ".py",
   "mimetype": "text/x-python",
   "name": "python",
   "nbconvert_exporter": "python",
   "pygments_lexer": "ipython3",
   "version": "3.8.5"
  }
 },
 "nbformat": 4,
 "nbformat_minor": 2
}
